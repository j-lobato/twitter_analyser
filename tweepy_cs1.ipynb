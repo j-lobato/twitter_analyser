{
 "cells": [
  {
   "cell_type": "code",
   "execution_count": null,
   "metadata": {
    "id": "rUyRA6FS5jrd"
   },
   "outputs": [],
   "source": [
    "# Add your Twitter credentials. Do NOT share them with anyone\n",
    "\n",
    "\n",
    "consumer_key =\n",
    "consumer_secret =\n",
    "access_token = \n",
    "access_token_secret ="
   ]
  },
  {
   "cell_type": "code",
   "execution_count": 110,
   "metadata": {
    "id": "F7mE8ghxQH1I"
   },
   "outputs": [],
   "source": [
    "consumer_key = 'PAKlkz9EAKgmRP2d0OIDbEIYm'\n",
    "consumer_secret = 'UbGYhpaSyJOQxPJPnM3mQhx4u597JdxptXuyyignaFjEx78D6z'\n",
    "access_token = '1177114275959255040-NGvHhb9XXY8y1aAw1nl0yGqpCFe0SL'\n",
    "access_token_secret = 'LrMD58UTMf1qMyl2I35yyso5fSMZuZA7Ba57TVYu0bnlu'"
   ]
  },
  {
   "cell_type": "code",
   "execution_count": 112,
   "metadata": {
    "id": "3krE3w8kdDFK"
   },
   "outputs": [
    {
     "name": "stdout",
     "output_type": "stream",
     "text": [
      "Collecting tweepy\n",
      "  Using cached tweepy-3.9.0-py2.py3-none-any.whl (30 kB)\n",
      "Requirement already satisfied: requests-oauthlib>=0.7.0 in /Users/arthurlobatomagalhaesfilho/opt/anaconda3/lib/python3.8/site-packages (from tweepy) (1.3.0)\n",
      "Requirement already satisfied: requests[socks]>=2.11.1 in /Users/arthurlobatomagalhaesfilho/opt/anaconda3/lib/python3.8/site-packages (from tweepy) (2.24.0)\n",
      "Requirement already satisfied: six>=1.10.0 in /Users/arthurlobatomagalhaesfilho/opt/anaconda3/lib/python3.8/site-packages (from tweepy) (1.15.0)\n",
      "Requirement already satisfied: oauthlib>=3.0.0 in /Users/arthurlobatomagalhaesfilho/opt/anaconda3/lib/python3.8/site-packages (from requests-oauthlib>=0.7.0->tweepy) (3.1.0)\n",
      "Requirement already satisfied: certifi>=2017.4.17 in /Users/arthurlobatomagalhaesfilho/opt/anaconda3/lib/python3.8/site-packages (from requests[socks]>=2.11.1->tweepy) (2020.6.20)\n",
      "Requirement already satisfied: idna<3,>=2.5 in /Users/arthurlobatomagalhaesfilho/opt/anaconda3/lib/python3.8/site-packages (from requests[socks]>=2.11.1->tweepy) (2.10)\n",
      "Requirement already satisfied: urllib3!=1.25.0,!=1.25.1,<1.26,>=1.21.1 in /Users/arthurlobatomagalhaesfilho/opt/anaconda3/lib/python3.8/site-packages (from requests[socks]>=2.11.1->tweepy) (1.25.9)\n",
      "Requirement already satisfied: chardet<4,>=3.0.2 in /Users/arthurlobatomagalhaesfilho/opt/anaconda3/lib/python3.8/site-packages (from requests[socks]>=2.11.1->tweepy) (3.0.4)\n",
      "Requirement already satisfied: PySocks!=1.5.7,>=1.5.6; extra == \"socks\" in /Users/arthurlobatomagalhaesfilho/opt/anaconda3/lib/python3.8/site-packages (from requests[socks]>=2.11.1->tweepy) (1.7.1)\n",
      "Installing collected packages: tweepy\n",
      "Successfully installed tweepy-3.9.0\n"
     ]
    }
   ],
   "source": [
    "#! pip install tweepy\n",
    "\n",
    "import tweepy\n",
    "from tweepy import Stream\n",
    "from tweepy import OAuthHandler\n",
    "from tweepy.streaming import StreamListener\n",
    "import sys\n",
    "import datetime\n",
    "\n",
    "import pandas as pd\n",
    "pd.options.display.max_colwidth =1800\n",
    "\n",
    "# keys\n",
    "\n",
    "consumer_key = consumer_key\n",
    "consumer_secret = consumer_secret \n",
    "access_token = access_token\n",
    "access_token_secret = access_token_secret \n",
    "\n",
    "auth = tweepy.OAuthHandler(consumer_key, consumer_secret)\n",
    "auth.set_access_token(access_token, access_token_secret)\n",
    "api = tweepy.API(auth) \n",
    "\n",
    "\n",
    "\n",
    "#Switching to application authentication\n",
    "\n",
    "auth=tweepy.AppAuthHandler(consumer_key, consumer_secret)\n",
    "\n",
    "\n",
    "\n",
    "#Setting up new api wrapper, using authentication only\n",
    "\n",
    "api = tweepy.API(auth, wait_on_rate_limit=True,wait_on_rate_limit_notify=True) \n",
    "\n",
    "if (not api):\n",
    "    print('problem with api')\n",
    "\n",
    "\n",
    "\n",
    "listOfTweets = []\n",
    "\n",
    "\n",
    "\n",
    "def query_twitter(keyword, lang, number_tweets):\n",
    "    for tweet in tweepy.Cursor(api.search, q=keyword, tweet_mode='extended', lang=lang).items(number_tweets):\n",
    "        # Add tweets in this format\n",
    "        dict_ = {'Screen Name': tweet.user.screen_name,\n",
    "          'User Name': tweet.user.name,\n",
    "          'Followers Count': tweet.user.followers_count, \n",
    "          'Friends Count': tweet.user.friends_count,\n",
    "          'Users Tweets Count': tweet.user.statuses_count,\n",
    "          'User Location': tweet.user.location,\n",
    "          'Coordinates': tweet.coordinates,\n",
    "          'Place': tweet.place, \n",
    "          'Tweet Created At': tweet.created_at,\n",
    "          'Tweet Text': tweet.full_text,\n",
    "          'Tweet Coordinates': tweet.coordinates,\n",
    "          'Retweet Count': tweet.retweet_count,\n",
    "          'Retweeted': tweet.retweeted,\n",
    "          'Phone Type': tweet.source,\n",
    "          'Favorite Count': tweet.favorite_count,\n",
    "          'Favorited': tweet.favorited,\n",
    "          'Replied': tweet.in_reply_to_status_id_str\n",
    "          }\n",
    "        listOfTweets.append(dict_)\n",
    "        df_tweets = pd.DataFrame(listOfTweets)\n",
    "    return df_tweets"
   ]
  },
  {
   "cell_type": "code",
   "execution_count": 113,
   "metadata": {
    "id": "pnTOWiz3enKO"
   },
   "outputs": [],
   "source": [
    "# Type the following\n",
    "\n",
    "keyword = 'pet shampoo' # type in between the '' in red \n",
    "\n",
    "lang = 'en' # en for English. Check the full list of languages here >>>>> \n",
    "\n",
    "number_tweets= 60 # type the number of tweets. The current limit is 10000\n",
    "\n",
    "# now press ENTER and SHIFT "
   ]
  },
  {
   "cell_type": "code",
   "execution_count": 114,
   "metadata": {
    "id": "Vc8sM3wi7YGj"
   },
   "outputs": [],
   "source": [
    "# press ENTER and SHIFT \n",
    "d = query_twitter (keyword =keyword, lang = lang, number_tweets=number_tweets)\n",
    "d = d.drop_duplicates(subset='Tweet Text')\n",
    "d.to_csv('dataframe.csv') \n",
    "\n",
    "# the tables will be temporarily saved on your Colab (find them in a folder on the left side of your screen!)\n",
    "# Make sure you download them if you want to use them after closing Colab\n",
    "\n",
    "retweet_count10 = d.sort_values(by='Retweet Count').head(10).copy()\n",
    "\n",
    "#retweet_count10.to_csv('retweet_count10.csv')\n",
    "\n",
    "favorite_count10 = d.sort_values(by='Favorite Count').head(10).copy()\n",
    "\n",
    "#favorite_count10.to_csv('favorite_count.csv10')\n",
    "\n",
    "d['Retweet by Followers'] = d['Retweet Count'] / d['Followers Count']\n",
    "retweet_by_followers10 = d.sort_values(by='Retweet by Followers', ascending=False).head(10).copy()\n",
    "\n",
    "#retweet_by_followers10.to_csv('retweet_by_followers10.csv')\n",
    "\n",
    "d['Retweet by Friends'] = d['Retweet Count'] / d['Friends Count']\n",
    "retweet_by_friends10 = d.sort_values(by='Retweet by Friends', ascending=False).head(10).copy()\n",
    "\n",
    "#retweet_by_friends10.to_csv('retweet_by_friends10.csv')\n",
    "\n",
    "d['Favorite by Followers'] = d['Favorite Count'] / d['Followers Count']\n",
    "favorite_by_followers10  = d.sort_values(by='Favorite by Followers', ascending=False).head(10).copy()\n",
    "\n",
    "#favorite_by_followers10.to_csv('favorite_by_followers10.csv')\n",
    "\n",
    "d['Favorite by Friends'] = d['Favorite Count'] / d['Friends Count']\n",
    "favorite_by_friends10 = d.sort_values(by='Favorite by Friends', ascending=False).head(10).copy()\n",
    "\n",
    "#favorite_by_friends10.to_csv('favorite_by_friends10.csv')\n"
   ]
  },
  {
   "cell_type": "code",
   "execution_count": 115,
   "metadata": {
    "colab": {
     "base_uri": "https://localhost:8080/",
     "height": 135
    },
    "id": "NC1EAk0icV0w",
    "outputId": "da7efc9f-d8a8-4b93-d7dc-9317d4dfb2a2"
   },
   "outputs": [
    {
     "name": "stdout",
     "output_type": "stream",
     "text": [
      "['pet', 'shampoo', 'http', 'https', 'amp', 'dog', 'bath', 'bathe', 'product', 'brush', 'hair', 'selling', 'need', 'needed', 'wash', 'washing', 'like', 'shower', 'cat']\n"
     ]
    }
   ],
   "source": [
    "# most common words \n",
    "\n",
    "from nltk.corpus import stopwords\n",
    "import string\n",
    "import nltk\n",
    "from nltk.tokenize import word_tokenize\n",
    "from nltk.stem import WordNetLemmatizer\n",
    "from gensim.summarization import keywords\n",
    "import re\n",
    "#from nltk.stem.lancaster import LancasterStemmer\n",
    "#from nltk.stem import SnowballStemmer\n",
    "\n",
    "#nltk.download('stopwords')\n",
    "#nltk.download('punkt')\n",
    "\n",
    "\n",
    "stopwords_language = 'english'\n",
    "\n",
    "stop = stopwords.words(stopwords_language) + list(string.punctuation)\n",
    "\n",
    "stop = stop + ['http', 'https', 'amp']\n",
    "\n",
    "lemma = WordNetLemmatizer()\n",
    "\n",
    "\n",
    "combined_text = [w for w in d['Tweet Text']]\n",
    "\n",
    "combined_text = str(combined_text)\n",
    "\n",
    "tok_text = [w for w in word_tokenize(str(combined_text))]\n",
    "\n",
    "tok_text = [w.lower() for w in tok_text if w not in stop and len(w) >2]\n",
    "\n",
    "\n",
    "tok_text = [lemma.lemmatize(w) for w in tok_text]\n",
    "\n",
    "keys = keywords(str(tok_text), words=15).split('\\n')\n",
    "\n",
    "key_words = keys.copy()\n",
    "\n",
    "keys_score =  keywords(str(tok_text), scores = True, words=24)#.split('\\n')\n",
    "\n",
    "\n",
    "\n",
    "\n",
    "#print(keys_score)\n",
    "print(keys)"
   ]
  },
  {
   "cell_type": "code",
   "execution_count": 151,
   "metadata": {
    "collapsed": true
   },
   "outputs": [
    {
     "data": {
      "text/plain": [
       "['pet',\n",
       " 'shampoo',\n",
       " 'dog',\n",
       " 'bath',\n",
       " 'brush',\n",
       " 'need',\n",
       " 'wash',\n",
       " 'washing',\n",
       " 'shower',\n",
       " 'cat']"
      ]
     },
     "execution_count": 151,
     "metadata": {},
     "output_type": "execute_result"
    }
   ],
   "source": [
    "remove = ['http' ,  'https', 'amp', 'like', 'bathe', 'product', 'hair', 'selling', 'needed']\n",
    "\n",
    "clean_keys = [w for w in keys if w not in remove]\n",
    "clean_keys"
   ]
  },
  {
   "cell_type": "code",
   "execution_count": 2,
   "metadata": {
    "collapsed": true
   },
   "outputs": [
    {
     "data": {
      "text/plain": [
       "['i',\n",
       " 'me',\n",
       " 'my',\n",
       " 'myself',\n",
       " 'we',\n",
       " 'our',\n",
       " 'ours',\n",
       " 'ourselves',\n",
       " 'you',\n",
       " \"you're\",\n",
       " \"you've\",\n",
       " \"you'll\",\n",
       " \"you'd\",\n",
       " 'your',\n",
       " 'yours',\n",
       " 'yourself',\n",
       " 'yourselves',\n",
       " 'he',\n",
       " 'him',\n",
       " 'his',\n",
       " 'himself',\n",
       " 'she',\n",
       " \"she's\",\n",
       " 'her',\n",
       " 'hers',\n",
       " 'herself',\n",
       " 'it',\n",
       " \"it's\",\n",
       " 'its',\n",
       " 'itself',\n",
       " 'they',\n",
       " 'them',\n",
       " 'their',\n",
       " 'theirs',\n",
       " 'themselves',\n",
       " 'what',\n",
       " 'which',\n",
       " 'who',\n",
       " 'whom',\n",
       " 'this',\n",
       " 'that',\n",
       " \"that'll\",\n",
       " 'these',\n",
       " 'those',\n",
       " 'am',\n",
       " 'is',\n",
       " 'are',\n",
       " 'was',\n",
       " 'were',\n",
       " 'be',\n",
       " 'been',\n",
       " 'being',\n",
       " 'have',\n",
       " 'has',\n",
       " 'had',\n",
       " 'having',\n",
       " 'do',\n",
       " 'does',\n",
       " 'did',\n",
       " 'doing',\n",
       " 'a',\n",
       " 'an',\n",
       " 'the',\n",
       " 'and',\n",
       " 'but',\n",
       " 'if',\n",
       " 'or',\n",
       " 'because',\n",
       " 'as',\n",
       " 'until',\n",
       " 'while',\n",
       " 'of',\n",
       " 'at',\n",
       " 'by',\n",
       " 'for',\n",
       " 'with',\n",
       " 'about',\n",
       " 'against',\n",
       " 'between',\n",
       " 'into',\n",
       " 'through',\n",
       " 'during',\n",
       " 'before',\n",
       " 'after',\n",
       " 'above',\n",
       " 'below',\n",
       " 'to',\n",
       " 'from',\n",
       " 'up',\n",
       " 'down',\n",
       " 'in',\n",
       " 'out',\n",
       " 'on',\n",
       " 'off',\n",
       " 'over',\n",
       " 'under',\n",
       " 'again',\n",
       " 'further',\n",
       " 'then',\n",
       " 'once',\n",
       " 'here',\n",
       " 'there',\n",
       " 'when',\n",
       " 'where',\n",
       " 'why',\n",
       " 'how',\n",
       " 'all',\n",
       " 'any',\n",
       " 'both',\n",
       " 'each',\n",
       " 'few',\n",
       " 'more',\n",
       " 'most',\n",
       " 'other',\n",
       " 'some',\n",
       " 'such',\n",
       " 'no',\n",
       " 'nor',\n",
       " 'not',\n",
       " 'only',\n",
       " 'own',\n",
       " 'same',\n",
       " 'so',\n",
       " 'than',\n",
       " 'too',\n",
       " 'very',\n",
       " 's',\n",
       " 't',\n",
       " 'can',\n",
       " 'will',\n",
       " 'just',\n",
       " 'don',\n",
       " \"don't\",\n",
       " 'should',\n",
       " \"should've\",\n",
       " 'now',\n",
       " 'd',\n",
       " 'll',\n",
       " 'm',\n",
       " 'o',\n",
       " 're',\n",
       " 've',\n",
       " 'y',\n",
       " 'ain',\n",
       " 'aren',\n",
       " \"aren't\",\n",
       " 'couldn',\n",
       " \"couldn't\",\n",
       " 'didn',\n",
       " \"didn't\",\n",
       " 'doesn',\n",
       " \"doesn't\",\n",
       " 'hadn',\n",
       " \"hadn't\",\n",
       " 'hasn',\n",
       " \"hasn't\",\n",
       " 'haven',\n",
       " \"haven't\",\n",
       " 'isn',\n",
       " \"isn't\",\n",
       " 'ma',\n",
       " 'mightn',\n",
       " \"mightn't\",\n",
       " 'mustn',\n",
       " \"mustn't\",\n",
       " 'needn',\n",
       " \"needn't\",\n",
       " 'shan',\n",
       " \"shan't\",\n",
       " 'shouldn',\n",
       " \"shouldn't\",\n",
       " 'wasn',\n",
       " \"wasn't\",\n",
       " 'weren',\n",
       " \"weren't\",\n",
       " 'won',\n",
       " \"won't\",\n",
       " 'wouldn',\n",
       " \"wouldn't\",\n",
       " '!',\n",
       " '\"',\n",
       " '#',\n",
       " '$',\n",
       " '%',\n",
       " '&',\n",
       " \"'\",\n",
       " '(',\n",
       " ')',\n",
       " '*',\n",
       " '+',\n",
       " ',',\n",
       " '-',\n",
       " '.',\n",
       " '/',\n",
       " ':',\n",
       " ';',\n",
       " '<',\n",
       " '=',\n",
       " '>',\n",
       " '?',\n",
       " '@',\n",
       " '[',\n",
       " '\\\\',\n",
       " ']',\n",
       " '^',\n",
       " '_',\n",
       " '`',\n",
       " '{',\n",
       " '|',\n",
       " '}',\n",
       " '~',\n",
       " 'http',\n",
       " 'https']"
      ]
     },
     "execution_count": 2,
     "metadata": {},
     "output_type": "execute_result"
    }
   ],
   "source": []
  },
  {
   "cell_type": "code",
   "execution_count": 117,
   "metadata": {
    "colab": {
     "base_uri": "https://localhost:8080/",
     "height": 197
    },
    "id": "LukaiuT8r7y7",
    "outputId": "1a1b8567-1fb7-46ea-c452-ce3761c6a6ea"
   },
   "outputs": [
    {
     "data": {
      "image/png": "[encoded data removed]",
      "text/plain": [
       "<Figure size 432x288 with 1 Axes>"
      ]
     },
     "metadata": {
      "needs_background": "light"
     },
     "output_type": "display_data"
    }
   ],
   "source": [
    "# wordcloud \n",
    "import re\n",
    "import matplotlib.pyplot as plt\n",
    "from wordcloud import WordCloud, STOPWORDS\n",
    "\n",
    "stopwords_cloud = set(STOPWORDS)\n",
    "\n",
    "word_keys = re.sub(\"'\", \" \",str(keys))\n",
    "\n",
    "wordcloud = WordCloud(max_font_size=50, max_words=20, stopwords = stopwords_cloud, background_color=\"white\").generate(word_keys)\n",
    "\n",
    "# Display the generated image:\n",
    "plt.imshow(wordcloud, interpolation='bilinear')\n",
    "plt.axis(\"off\")\n",
    "plt.show()\n"
   ]
  },
  {
   "cell_type": "code",
   "execution_count": 118,
   "metadata": {
    "colab": {
     "base_uri": "https://localhost:8080/",
     "height": 358
    },
    "id": "Fu-LpvXg0MFz",
    "outputId": "524c23cc-c39a-4434-ae9c-2811b8013824"
   },
   "outputs": [
    {
     "name": "stdout",
     "output_type": "stream",
     "text": [
      "<class 'pandas.core.frame.DataFrame'>\n",
      "Int64Index: 53 entries, 0 to 59\n",
      "Data columns (total 21 columns):\n",
      " #   Column                 Non-Null Count  Dtype         \n",
      "---  ------                 --------------  -----         \n",
      " 0   Screen Name            53 non-null     object        \n",
      " 1   User Name              53 non-null     object        \n",
      " 2   Followers Count        53 non-null     int64         \n",
      " 3   Friends Count          53 non-null     int64         \n",
      " 4   Users Tweets Count     53 non-null     int64         \n",
      " 5   User Location          53 non-null     object        \n",
      " 6   Coordinates            1 non-null      object        \n",
      " 7   Place                  3 non-null      object        \n",
      " 8   Tweet Created At       53 non-null     datetime64[ns]\n",
      " 9   Tweet Text             53 non-null     object        \n",
      " 10  Tweet Coordinates      1 non-null      object        \n",
      " 11  Retweet Count          53 non-null     int64         \n",
      " 12  Retweeted              53 non-null     bool          \n",
      " 13  Phone Type             53 non-null     object        \n",
      " 14  Favorite Count         53 non-null     int64         \n",
      " 15  Favorited              53 non-null     bool          \n",
      " 16  Replied                6 non-null      object        \n",
      " 17  Retweet by Followers   53 non-null     float64       \n",
      " 18  Retweet by Friends     53 non-null     float64       \n",
      " 19  Favorite by Followers  53 non-null     float64       \n",
      " 20  Favorite by Friends    53 non-null     float64       \n",
      "dtypes: bool(2), datetime64[ns](1), float64(4), int64(5), object(9)\n",
      "memory usage: 8.4+ KB\n"
     ]
    }
   ],
   "source": [
    "d.info()"
   ]
  },
  {
   "cell_type": "code",
   "execution_count": 150,
   "metadata": {
    "id": "C-9D6pGCx2fM"
   },
   "outputs": [
    {
     "name": "stderr",
     "output_type": "stream",
     "text": [
      "/Users/arthurlobatomagalhaesfilho/opt/anaconda3/lib/python3.8/site-packages/matplotlib/backends/backend_agg.py:214: RuntimeWarning: Glyph 65292 missing from current font.\n",
      "  font.set_text(s, 0.0, flags=flags)\n",
      "/Users/arthurlobatomagalhaesfilho/opt/anaconda3/lib/python3.8/site-packages/matplotlib/backends/backend_agg.py:183: RuntimeWarning: Glyph 65292 missing from current font.\n",
      "  font.set_text(s, 0, flags=flags)\n"
     ]
    },
    {
     "data": {
      "image/png": "[encoded data removed]",
      "text/plain": [
       "<Figure size 432x288 with 1 Axes>"
      ]
     },
     "metadata": {
      "needs_background": "light"
     },
     "output_type": "display_data"
    }
   ],
   "source": [
    "# keywords by place\n",
    "\n",
    "from nltk.tokenize import word_tokenize\n",
    "\n",
    "\n",
    "#d['Tweet Text Str'] = d['Tweet Text'].astype('str') \n",
    "\n",
    "d['Tweet Text String'] =  d['Tweet Text'].str.lower()\n",
    "\n",
    "\n",
    "list_f = []\n",
    "\n",
    "list_location = []\n",
    "\n",
    "for ii in range(len(key_words)): \n",
    "      \n",
    "    location = []\n",
    "    for i in range(0, len(d)): \n",
    "\n",
    "        if clean_keys[ii] in d.iloc[i, -1]:\n",
    "            location.append(d.iloc[i, 5])\n",
    "    fig_loc = pd.Series(location)\n",
    "    fig_loc2 = fig_loc.value_counts()\n",
    "    fig_loc2[:10].sort_values().plot(title=clean_keys[ii], kind='barh')\n",
    "    fname = '{}.jpg'.format(clean_keys[ii])\n",
    "    plt.savefig(fname)\n",
    "    \n",
    "        "
   ]
  },
  {
   "cell_type": "code",
   "execution_count": 129,
   "metadata": {
    "collapsed": true
   },
   "outputs": [
    {
     "data": {
      "text/plain": [
       "[None,\n",
       " None,\n",
       " None,\n",
       " None,\n",
       " None,\n",
       " None,\n",
       " None,\n",
       " Place(_api=<tweepy.api.API object at 0x135904040>, id='00b028b400039d97', url='https://api.twitter.com/1.1/geo/id/00b028b400039d97.json', place_type='city', name='Santa Fe Springs', full_name='Santa Fe Springs, CA', country_code='US', country='United States', contained_within=[], bounding_box=BoundingBox(_api=<tweepy.api.API object at 0x135904040>, type='Polygon', coordinates=[[[-118.098575, 33.882744], [-118.028833, 33.882744], [-118.028833, 33.975123], [-118.098575, 33.975123]]]), attributes={}),\n",
       " None,\n",
       " None,\n",
       " None,\n",
       " None,\n",
       " None,\n",
       " None,\n",
       " None,\n",
       " None,\n",
       " None,\n",
       " None,\n",
       " None,\n",
       " None,\n",
       " None,\n",
       " None,\n",
       " None,\n",
       " None,\n",
       " None,\n",
       " None,\n",
       " None,\n",
       " None,\n",
       " None,\n",
       " None,\n",
       " None,\n",
       " None,\n",
       " None,\n",
       " None,\n",
       " None,\n",
       " None,\n",
       " None,\n",
       " None,\n",
       " None,\n",
       " None,\n",
       " None,\n",
       " None,\n",
       " None,\n",
       " Place(_api=<tweepy.api.API object at 0x135904040>, id='67320851475e0c72', url='https://api.twitter.com/1.1/geo/id/67320851475e0c72.json', place_type='city', name='Burton Latimer', full_name='Burton Latimer, England', country_code='GB', country='United Kingdom', contained_within=[], bounding_box=BoundingBox(_api=<tweepy.api.API object at 0x135904040>, type='Polygon', coordinates=[[[-0.69949, 52.3552727], [-0.6682067, 52.3552727], [-0.6682067, 52.3723585], [-0.69949, 52.3723585]]]), attributes={}),\n",
       " None,\n",
       " None,\n",
       " None,\n",
       " None,\n",
       " Place(_api=<tweepy.api.API object at 0x135904040>, id='c500c6f8494a90ac', url='https://api.twitter.com/1.1/geo/id/c500c6f8494a90ac.json', place_type='city', name='Cork', full_name='Cork, Ireland', country_code='IE', country='Ireland', contained_within=[], bounding_box=BoundingBox(_api=<tweepy.api.API object at 0x135904040>, type='Polygon', coordinates=[[[-10.2254601, 51.4192154], [-7.8411533, 51.4192154], [-7.8411533, 52.3885113], [-10.2254601, 52.3885113]]]), attributes={}),\n",
       " None,\n",
       " None,\n",
       " None,\n",
       " None,\n",
       " None,\n",
       " None,\n",
       " None,\n",
       " Place(_api=<tweepy.api.API object at 0x135904040>, id='00b028b400039d97', url='https://api.twitter.com/1.1/geo/id/00b028b400039d97.json', place_type='city', name='Santa Fe Springs', full_name='Santa Fe Springs, CA', country_code='US', country='United States', contained_within=[], bounding_box=BoundingBox(_api=<tweepy.api.API object at 0x135904040>, type='Polygon', coordinates=[[[-118.098575, 33.882744], [-118.028833, 33.882744], [-118.028833, 33.975123], [-118.098575, 33.975123]]]), attributes={}),\n",
       " None,\n",
       " None,\n",
       " None,\n",
       " None,\n",
       " None,\n",
       " None,\n",
       " None,\n",
       " None,\n",
       " None,\n",
       " None,\n",
       " None,\n",
       " None,\n",
       " None,\n",
       " None,\n",
       " None,\n",
       " None,\n",
       " None,\n",
       " None,\n",
       " None,\n",
       " None,\n",
       " None,\n",
       " None,\n",
       " None,\n",
       " None,\n",
       " None,\n",
       " None,\n",
       " None,\n",
       " None,\n",
       " None,\n",
       " None,\n",
       " None,\n",
       " None,\n",
       " None,\n",
       " None,\n",
       " None,\n",
       " None,\n",
       " Place(_api=<tweepy.api.API object at 0x135904040>, id='67320851475e0c72', url='https://api.twitter.com/1.1/geo/id/67320851475e0c72.json', place_type='city', name='Burton Latimer', full_name='Burton Latimer, England', country_code='GB', country='United Kingdom', contained_within=[], bounding_box=BoundingBox(_api=<tweepy.api.API object at 0x135904040>, type='Polygon', coordinates=[[[-0.69949, 52.3552727], [-0.6682067, 52.3552727], [-0.6682067, 52.3723585], [-0.69949, 52.3723585]]]), attributes={}),\n",
       " None,\n",
       " None,\n",
       " None,\n",
       " None,\n",
       " None,\n",
       " Place(_api=<tweepy.api.API object at 0x135904040>, id='c500c6f8494a90ac', url='https://api.twitter.com/1.1/geo/id/c500c6f8494a90ac.json', place_type='city', name='Cork', full_name='Cork, Ireland', country_code='IE', country='Ireland', contained_within=[], bounding_box=BoundingBox(_api=<tweepy.api.API object at 0x135904040>, type='Polygon', coordinates=[[[-10.2254601, 51.4192154], [-7.8411533, 51.4192154], [-7.8411533, 52.3885113], [-10.2254601, 52.3885113]]]), attributes={}),\n",
       " None]"
      ]
     },
     "execution_count": 129,
     "metadata": {},
     "output_type": "execute_result"
    }
   ],
   "source": [
    "# todo \n",
    "# 1. clustering and extract key messages - then how they change over time - maybe art or nn\n",
    "# 2. sentiment analysis - nn \n",
    "\n",
    "\n",
    "\n"
   ]
  },
  {
   "cell_type": "code",
   "execution_count": null,
   "metadata": {
    "colab": {
     "base_uri": "https://localhost:8080/",
     "height": 33
    },
    "collapsed": true,
    "id": "rixiWmH0dQeo",
    "outputId": "34398ef9-f388-44c4-dd79-e4e69455f520"
   },
   "outputs": [
    {
     "name": "stdout",
     "output_type": "stream",
     "text": [
      "not null\n"
     ]
    }
   ],
   "source": []
  },
  {
   "cell_type": "code",
   "execution_count": null,
   "metadata": {
    "colab": {
     "base_uri": "https://localhost:8080/",
     "height": 35
    },
    "collapsed": true,
    "id": "MCVfypNzz0Eo",
    "outputId": "2b7ee63d-a3f3-47c3-d8db-a7593efcff17"
   },
   "outputs": [
    {
     "data": {
      "application/vnd.google.colaboratory.intrinsic+json": {
       "type": "string"
      },
      "text/plain": [
       "'5)'"
      ]
     },
     "execution_count": 106,
     "metadata": {
      "tags": []
     },
     "output_type": "execute_result"
    }
   ],
   "source": [
    "\n"
   ]
  },
  {
   "cell_type": "code",
   "execution_count": null,
   "metadata": {
    "id": "FoJHT-Ma5I-1"
   },
   "outputs": [],
   "source": []
  }
 ],
 "metadata": {
  "colab": {
   "name": "tweepy_cs1.ipynb",
   "provenance": []
  },
  "kernelspec": {
   "display_name": "Python 3",
   "language": "python",
   "name": "python3"
  },
  "language_info": {
   "codemirror_mode": {
    "name": "ipython",
    "version": 3
   },
   "file_extension": ".py",
   "mimetype": "text/x-python",
   "name": "python",
   "nbconvert_exporter": "python",
   "pygments_lexer": "ipython3",
   "version": "3.8.3"
  }
 },
 "nbformat": 4,
 "nbformat_minor": 1
}
